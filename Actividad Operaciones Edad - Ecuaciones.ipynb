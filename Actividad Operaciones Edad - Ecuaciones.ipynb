{
 "cells": [
  {
   "cell_type": "markdown",
   "id": "60b39af6",
   "metadata": {},
   "source": [
    "1.-El doble de mi edad tiene 24 años, ¿cuántos años tengo? (x=?)"
   ]
  },
  {
   "cell_type": "code",
   "execution_count": 57,
   "id": "03e8e4a3",
   "metadata": {},
   "outputs": [],
   "source": [
    "x=24/2"
   ]
  },
  {
   "cell_type": "code",
   "execution_count": 58,
   "id": "ce4c0407",
   "metadata": {
    "scrolled": true
   },
   "outputs": [
    {
     "name": "stdout",
     "output_type": "stream",
     "text": [
      "x= 12.0\n"
     ]
    }
   ],
   "source": [
    "print(\"x=\",x)"
   ]
  },
  {
   "cell_type": "markdown",
   "id": "9838284e",
   "metadata": {},
   "source": [
    "2.- A un tercio de la edad de mi hermana le disminuyo 15 años para tener la misma edad que yo. Yo tengo 6 años. ¿Qué edad tiene ella? (Escribir la ecuación correspondiente, despejar y calcular la nueva variable \"y\" de manera manual)\n"
   ]
  },
  {
   "cell_type": "markdown",
   "id": "074fb9d7",
   "metadata": {},
   "source": [
    "1/3y - 15 = 6\n",
    "\n",
    "1/3y=6+15\n",
    "\n",
    "1/3y=21\n",
    "\n",
    "y=21/(1/3)\n",
    "\n",
    "y=63"
   ]
  },
  {
   "cell_type": "code",
   "execution_count": 51,
   "id": "aabc3a8e",
   "metadata": {},
   "outputs": [],
   "source": [
    "y=21/(1/3)"
   ]
  },
  {
   "cell_type": "code",
   "execution_count": 59,
   "id": "55ce302d",
   "metadata": {},
   "outputs": [
    {
     "name": "stdout",
     "output_type": "stream",
     "text": [
      "y= 63.0\n"
     ]
    }
   ],
   "source": [
    "print(\"y=\",y)"
   ]
  },
  {
   "cell_type": "markdown",
   "id": "5f60df53",
   "metadata": {},
   "source": [
    "3.-Determina quién es más grande (variables \"x\" y \"y\") utilizando if y else."
   ]
  },
  {
   "cell_type": "code",
   "execution_count": 110,
   "id": "00210d7c",
   "metadata": {},
   "outputs": [
    {
     "name": "stdout",
     "output_type": "stream",
     "text": [
      "y es mayor a x\n"
     ]
    }
   ],
   "source": [
    "x = 12\n",
    "y = 63\n",
    "if x > y:\n",
    "    print(\"x es mayor a y\")\n",
    "else:\n",
    "    print(\"y es mayor a x\")\n"
   ]
  }
 ],
 "metadata": {
  "kernelspec": {
   "display_name": "Python 3 (ipykernel)",
   "language": "python",
   "name": "python3"
  },
  "language_info": {
   "codemirror_mode": {
    "name": "ipython",
    "version": 3
   },
   "file_extension": ".py",
   "mimetype": "text/x-python",
   "name": "python",
   "nbconvert_exporter": "python",
   "pygments_lexer": "ipython3",
   "version": "3.9.13"
  }
 },
 "nbformat": 4,
 "nbformat_minor": 5
}
