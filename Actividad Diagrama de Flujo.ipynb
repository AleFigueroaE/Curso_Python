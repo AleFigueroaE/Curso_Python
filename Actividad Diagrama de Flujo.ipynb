{
 "cells": [
  {
   "cell_type": "code",
   "execution_count": 7,
   "id": "e64f5ce5",
   "metadata": {},
   "outputs": [
    {
     "name": "stdout",
     "output_type": "stream",
     "text": [
      "Ingrese el valor de la variable x 12\n",
      "Ingrese el valor de la variable y 63\n",
      "La variable y es mayor a la variable x.\n"
     ]
    }
   ],
   "source": [
    "varx=input(\"Ingrese el valor de la variable x \")\n",
    "varx= int(varx)\n",
    "vary=input(\"Ingrese el valor de la variable y \")\n",
    "vary= int(vary)\n",
    "if varx > vary:\n",
    "    print(\"La variable x es mayor a la variable y.\")\n",
    "else:\n",
    "    print(\"La variable y es mayor a la variable x.\")"
   ]
  },
  {
   "cell_type": "code",
   "execution_count": null,
   "id": "d45f7f81",
   "metadata": {},
   "outputs": [],
   "source": []
  }
 ],
 "metadata": {
  "kernelspec": {
   "display_name": "Python 3 (ipykernel)",
   "language": "python",
   "name": "python3"
  },
  "language_info": {
   "codemirror_mode": {
    "name": "ipython",
    "version": 3
   },
   "file_extension": ".py",
   "mimetype": "text/x-python",
   "name": "python",
   "nbconvert_exporter": "python",
   "pygments_lexer": "ipython3",
   "version": "3.9.13"
  }
 },
 "nbformat": 4,
 "nbformat_minor": 5
}
