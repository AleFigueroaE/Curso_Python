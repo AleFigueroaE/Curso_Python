{
 "cells": [
  {
   "cell_type": "markdown",
   "id": "8bbf0fa2",
   "metadata": {},
   "source": [
    "1.- Crea un vector utilizando la función np.array() con valores dentro del rango 3 al número que representa tu edad."
   ]
  },
  {
   "cell_type": "code",
   "execution_count": 14,
   "id": "b28e68d2",
   "metadata": {},
   "outputs": [
    {
     "name": "stdout",
     "output_type": "stream",
     "text": [
      "[ 3  4  5  6  7  8  9 10 11 12 13 14 15 16 17 18 19 20 21 22 23 24 25 26]\n"
     ]
    }
   ],
   "source": [
    "import numpy as np\n",
    "vector = np.array(range(3, 27))\n",
    "print(vector)"
   ]
  },
  {
   "cell_type": "markdown",
   "id": "b3badf07",
   "metadata": {},
   "source": [
    "2.- Crea un arreglo con los siguientes elementos: [0, 1, 2, 3, 4, 0, 1, 2, 3, 4]"
   ]
  },
  {
   "cell_type": "code",
   "execution_count": 6,
   "id": "a7eaa21e",
   "metadata": {},
   "outputs": [
    {
     "data": {
      "text/plain": [
       "array([0, 1, 2, 3, 4, 0, 1, 2, 3, 4])"
      ]
     },
     "execution_count": 6,
     "metadata": {},
     "output_type": "execute_result"
    }
   ],
   "source": [
    "lista = [0, 1, 2, 3, 4, 0, 1, 2, 3, 4] \n",
    "np.array(lista)"
   ]
  },
  {
   "cell_type": "markdown",
   "id": "bb492ebb",
   "metadata": {},
   "source": [
    "3.- Ordena de forma ascendente dicho arreglo utilizando la función .sort()."
   ]
  },
  {
   "cell_type": "code",
   "execution_count": 13,
   "id": "bef06e37",
   "metadata": {},
   "outputs": [
    {
     "name": "stdout",
     "output_type": "stream",
     "text": [
      "[0, 0, 1, 1, 2, 2, 3, 3, 4, 4]\n"
     ]
    }
   ],
   "source": [
    "array.sort()\n",
    "print(array)"
   ]
  }
 ],
 "metadata": {
  "kernelspec": {
   "display_name": "Python 3 (ipykernel)",
   "language": "python",
   "name": "python3"
  },
  "language_info": {
   "codemirror_mode": {
    "name": "ipython",
    "version": 3
   },
   "file_extension": ".py",
   "mimetype": "text/x-python",
   "name": "python",
   "nbconvert_exporter": "python",
   "pygments_lexer": "ipython3",
   "version": "3.9.13"
  }
 },
 "nbformat": 4,
 "nbformat_minor": 5
}
