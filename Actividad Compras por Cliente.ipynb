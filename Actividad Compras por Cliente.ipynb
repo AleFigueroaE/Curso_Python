{
 "cells": [
  {
   "cell_type": "markdown",
   "id": "75758b86",
   "metadata": {},
   "source": [
    "• Crear un programa que permita al usuario ingresar los montos de las compras de un cliente (se desconoce la cantidad de datos que se cargarán, que pueden cambiar en cada ejecución), cortando el ingreso de datos cuando el usuario ingresa el monto 0.\n",
    "• Si ingresa una cantidad negativa, no debe procesarse y se le debe solicitar que ingrese una nueva cantidad. Al finalizar, informar el total a pagar teniendo en cuenta que, si las ventas superan el total de $1000, se debe aplicar un 10% de descuento.\n",
    "\n",
    "Utilizar función \"if\" y \"else\". Es recomendable utilizar la función \"while\" para facilitar la elaboración de la actividad."
   ]
  },
  {
   "cell_type": "code",
   "execution_count": 29,
   "id": "107c632e",
   "metadata": {},
   "outputs": [
    {
     "name": "stdout",
     "output_type": "stream",
     "text": [
      "Ingrese el monto de la compra (0 para salir): $2\n",
      "Ingrese el monto de la compra (0 para salir): $1000\n",
      "Ingrese el monto de la compra (0 para salir): $-2\n",
      "El monto de la compra debe ser positivo.\n",
      "Ingrese el monto de la compra (0 para salir): $1\n",
      "Ingrese el monto de la compra (0 para salir): $0\n",
      "El total a pagar es: $902.70\n"
     ]
    }
   ],
   "source": [
    "compras = 0\n",
    "\n",
    "while True:\n",
    "    monto_compra = float(input(\"Ingrese el monto de la compra (0 para salir): $\"))\n",
    "    \n",
    "    if monto_compra == 0:\n",
    "        break\n",
    "        \n",
    "    if monto_compra < 0:\n",
    "        print(\"El monto de la compra debe ser positivo.\")\n",
    "        continue\n",
    "        \n",
    "    compras += monto_compra\n",
    "    \n",
    "if compras > 1000:\n",
    "    descuento = compras * 0.1\n",
    "    total_a_pagar = compras - descuento\n",
    "else:\n",
    "    total_a_pagar = compras\n",
    "    \n",
    "print(f\"El total a pagar es: ${total_a_pagar:.2f}\")\n"
   ]
  }
 ],
 "metadata": {
  "kernelspec": {
   "display_name": "Python 3 (ipykernel)",
   "language": "python",
   "name": "python3"
  },
  "language_info": {
   "codemirror_mode": {
    "name": "ipython",
    "version": 3
   },
   "file_extension": ".py",
   "mimetype": "text/x-python",
   "name": "python",
   "nbconvert_exporter": "python",
   "pygments_lexer": "ipython3",
   "version": "3.9.13"
  }
 },
 "nbformat": 4,
 "nbformat_minor": 5
}
