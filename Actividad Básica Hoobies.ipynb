{
 "cells": [
  {
   "cell_type": "markdown",
   "id": "f6239717",
   "metadata": {},
   "source": [
    "Crea un algoritmo para hacer tu pasatiempo favorito"
   ]
  },
  {
   "cell_type": "code",
   "execution_count": 9,
   "id": "5c685fd1",
   "metadata": {},
   "outputs": [
    {
     "name": "stdout",
     "output_type": "stream",
     "text": [
      "Indica cuál es tu pasatiempo favorito dibujar\n",
      "Interesante que tu pasatiempo favorito es dibujar.\n"
     ]
    }
   ],
   "source": [
    "pasatiempo = input(\"Indica cuál es tu pasatiempo favorito \")\n",
    "\n",
    "while pasatiempo.strip() == \"\":\n",
    "    print(\"Indica un pasatiempo válido.\")\n",
    "    pasatiempo = input(\"Indica cuál es tu pasatiempo favorito \")\n",
    "\n",
    "if pasatiempo == \"jugar tennis\":\n",
    "    print(\"Me gusta jugar tennis a mi también.\")\n",
    "else:\n",
    "    print(f\"Interesante que tu pasatiempo favorito es {pasatiempo}.\")"
   ]
  },
  {
   "cell_type": "code",
   "execution_count": null,
   "id": "92aae9a4",
   "metadata": {},
   "outputs": [],
   "source": []
  }
 ],
 "metadata": {
  "kernelspec": {
   "display_name": "Python 3 (ipykernel)",
   "language": "python",
   "name": "python3"
  },
  "language_info": {
   "codemirror_mode": {
    "name": "ipython",
    "version": 3
   },
   "file_extension": ".py",
   "mimetype": "text/x-python",
   "name": "python",
   "nbconvert_exporter": "python",
   "pygments_lexer": "ipython3",
   "version": "3.9.13"
  }
 },
 "nbformat": 4,
 "nbformat_minor": 5
}
