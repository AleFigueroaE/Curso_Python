{
 "cells": [
  {
   "cell_type": "markdown",
   "id": "81ab7553",
   "metadata": {},
   "source": [
    "1.- Crear una matriz 3x3 con valores de 0 a 8\n"
   ]
  },
  {
   "cell_type": "code",
   "execution_count": 34,
   "id": "bab080ec",
   "metadata": {},
   "outputs": [],
   "source": [
    "import numpy as np"
   ]
  },
  {
   "cell_type": "code",
   "execution_count": 35,
   "id": "6ab934fa",
   "metadata": {},
   "outputs": [],
   "source": [
    "array = np.array([[0, 1, 2], [3,4,5], [6,7,8]])"
   ]
  },
  {
   "cell_type": "code",
   "execution_count": 30,
   "id": "4b47831f",
   "metadata": {
    "scrolled": true
   },
   "outputs": [
    {
     "name": "stdout",
     "output_type": "stream",
     "text": [
      "[[0 1 2]\n",
      " [3 4 5]\n",
      " [6 7 8]]\n"
     ]
    }
   ],
   "source": [
    "print(array)"
   ]
  },
  {
   "attachments": {},
   "cell_type": "markdown",
   "id": "60f058ef",
   "metadata": {},
   "source": [
    "2.- Crear una matriz identidad de 6x6 utilizando la función .identity()."
   ]
  },
  {
   "cell_type": "code",
   "execution_count": 48,
   "id": "8c2331a4",
   "metadata": {},
   "outputs": [],
   "source": [
    "matriz = np.identity(6)"
   ]
  },
  {
   "cell_type": "code",
   "execution_count": 49,
   "id": "a976ee9e",
   "metadata": {},
   "outputs": [
    {
     "name": "stdout",
     "output_type": "stream",
     "text": [
      "[[1. 0. 0. 0. 0. 0.]\n",
      " [0. 1. 0. 0. 0. 0.]\n",
      " [0. 0. 1. 0. 0. 0.]\n",
      " [0. 0. 0. 1. 0. 0.]\n",
      " [0. 0. 0. 0. 1. 0.]\n",
      " [0. 0. 0. 0. 0. 1.]]\n"
     ]
    }
   ],
   "source": [
    "print(matriz)"
   ]
  }
 ],
 "metadata": {
  "kernelspec": {
   "display_name": "Python 3 (ipykernel)",
   "language": "python",
   "name": "python3"
  },
  "language_info": {
   "codemirror_mode": {
    "name": "ipython",
    "version": 3
   },
   "file_extension": ".py",
   "mimetype": "text/x-python",
   "name": "python",
   "nbconvert_exporter": "python",
   "pygments_lexer": "ipython3",
   "version": "3.9.13"
  }
 },
 "nbformat": 4,
 "nbformat_minor": 5
}
