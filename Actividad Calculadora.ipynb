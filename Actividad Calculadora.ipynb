{
 "cells": [
  {
   "cell_type": "markdown",
   "id": "515c746c",
   "metadata": {},
   "source": [
    "-Crear una calculadora con al menos 4 operaciones básicas definiendo una clase \"calculadora\" y dentro de esta las operaciones (sumar, restar, dividir y multiplicar).\n",
    "-El programa debe pedirle al usuario que ingrese dos valores, con los cuales la calculadora hará las 4 operaciones definidas anteriormente. \n",
    "-Es importante recordar que al momento de hacer una división, el denominador no puede ser igual a 0, por lo que en caso de que el usuario ingrese dicho valor, el programa debe imprimir que la respuesta de la operación de división con dicho valor ingresado es indefinido."
   ]
  },
  {
   "cell_type": "code",
   "execution_count": 8,
   "id": "e737af4a",
   "metadata": {},
   "outputs": [
    {
     "name": "stdout",
     "output_type": "stream",
     "text": [
      "Ingrese el primer valor: 2\n",
      "Ingrese el segundo valor: 2\n",
      "Suma: 4.0\n",
      "Resta: 0.0\n",
      "Multiplicación: 4.0\n",
      "División: 1.0\n"
     ]
    }
   ],
   "source": [
    "class Calculadora:\n",
    "    def sumar(self, a, b):\n",
    "        return a + b\n",
    "\n",
    "    def restar(self, a, b):\n",
    "        return a - b\n",
    "\n",
    "    def multiplicar(self, a, b):\n",
    "        return a * b\n",
    "\n",
    "    def dividir(self, a, b):\n",
    "        if b == 0:\n",
    "            print(\"Respuesta indefinida.\") \n",
    "            return None\n",
    "        else:\n",
    "            return a / b\n",
    "\n",
    "\n",
    "calculadora = Calculadora()\n",
    "\n",
    "a = float(input(\"Ingrese el primer valor: \"))\n",
    "b = float(input(\"Ingrese el segundo valor: \"))\n",
    "\n",
    "print(\"Suma:\", calculadora.sumar(a, b))\n",
    "print(\"Resta:\", calculadora.restar(a, b))\n",
    "print(\"Multiplicación:\", calculadora.multiplicar(a, b))\n",
    "print(\"División:\", calculadora.dividir(a, b))\n"
   ]
  },
  {
   "cell_type": "code",
   "execution_count": null,
   "id": "a272faa2",
   "metadata": {},
   "outputs": [],
   "source": []
  }
 ],
 "metadata": {
  "kernelspec": {
   "display_name": "Python 3 (ipykernel)",
   "language": "python",
   "name": "python3"
  },
  "language_info": {
   "codemirror_mode": {
    "name": "ipython",
    "version": 3
   },
   "file_extension": ".py",
   "mimetype": "text/x-python",
   "name": "python",
   "nbconvert_exporter": "python",
   "pygments_lexer": "ipython3",
   "version": "3.9.13"
  }
 },
 "nbformat": 4,
 "nbformat_minor": 5
}
