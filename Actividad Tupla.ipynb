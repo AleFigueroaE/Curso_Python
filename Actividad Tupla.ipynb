{
 "cells": [
  {
   "cell_type": "code",
   "execution_count": 10,
   "id": "f958e795",
   "metadata": {},
   "outputs": [],
   "source": [
    "Act_tupla = (16, 'Diciembre', True, 20.23,'Arturo')"
   ]
  },
  {
   "cell_type": "code",
   "execution_count": 11,
   "id": "f867ce8f",
   "metadata": {},
   "outputs": [
    {
     "name": "stdout",
     "output_type": "stream",
     "text": [
      "(16, 'Diciembre', True, 20.23, 'Arturo')\n"
     ]
    }
   ],
   "source": [
    "print(Act_tupla)"
   ]
  },
  {
   "cell_type": "code",
   "execution_count": 12,
   "id": "c7441d9d",
   "metadata": {},
   "outputs": [],
   "source": [
    "Act_lista = list(Act_tupla)"
   ]
  },
  {
   "cell_type": "code",
   "execution_count": 13,
   "id": "688520e5",
   "metadata": {},
   "outputs": [
    {
     "name": "stdout",
     "output_type": "stream",
     "text": [
      "[16, 'Diciembre', True, 20.23, 'Arturo']\n"
     ]
    }
   ],
   "source": [
    "print(Act_lista)"
   ]
  },
  {
   "cell_type": "code",
   "execution_count": 20,
   "id": "1eecf404",
   "metadata": {},
   "outputs": [],
   "source": [
    "Act_diccionario = {1:16, 2:'Diciembre', 3:True, 4:20.23, 5:'Arturo'}"
   ]
  },
  {
   "cell_type": "code",
   "execution_count": 21,
   "id": "c98163d4",
   "metadata": {},
   "outputs": [
    {
     "name": "stdout",
     "output_type": "stream",
     "text": [
      "{1: 16, 2: 'Diciembre', 3: True, 4: 20.23, 5: 'Arturo'}\n"
     ]
    }
   ],
   "source": [
    "print(Act_diccionario)"
   ]
  },
  {
   "cell_type": "code",
   "execution_count": null,
   "id": "d6b89e1b",
   "metadata": {},
   "outputs": [],
   "source": []
  }
 ],
 "metadata": {
  "kernelspec": {
   "display_name": "Python 3 (ipykernel)",
   "language": "python",
   "name": "python3"
  },
  "language_info": {
   "codemirror_mode": {
    "name": "ipython",
    "version": 3
   },
   "file_extension": ".py",
   "mimetype": "text/x-python",
   "name": "python",
   "nbconvert_exporter": "python",
   "pygments_lexer": "ipython3",
   "version": "3.9.13"
  }
 },
 "nbformat": 4,
 "nbformat_minor": 5
}
