{
 "cells": [
  {
   "attachments": {},
   "cell_type": "markdown",
   "id": "35a48481",
   "metadata": {},
   "source": [
    "1.- Crea una tupla con una longitud de 5 usando diferentes tipos de datos.\n",
    "2.- Cambiar dicha tupla a una lista.\n",
    "3.- Crea un diccionario donde la clave sea del 1 al 5 y los elementos los datos de la lista."
   ]
  },
  {
   "cell_type": "code",
   "execution_count": 10,
   "id": "f958e795",
   "metadata": {},
   "outputs": [],
   "source": [
    "Act_tupla = (16, 'Diciembre', True, 20.23,'Arturo')"
   ]
  },
  {
   "cell_type": "code",
   "execution_count": 11,
   "id": "f867ce8f",
   "metadata": {},
   "outputs": [
    {
     "name": "stdout",
     "output_type": "stream",
     "text": [
      "(16, 'Diciembre', True, 20.23, 'Arturo')\n"
     ]
    }
   ],
   "source": [
    "print(Act_tupla)"
   ]
  },
  {
   "cell_type": "code",
   "execution_count": 12,
   "id": "9a5da200",
   "metadata": {},
   "outputs": [],
   "source": [
    "Act_lista = list(Act_tupla)"
   ]
  },
  {
   "cell_type": "code",
   "execution_count": 13,
   "id": "f9fde7ea",
   "metadata": {},
   "outputs": [
    {
     "name": "stdout",
     "output_type": "stream",
     "text": [
      "[16, 'Diciembre', True, 20.23, 'Arturo']\n"
     ]
    }
   ],
   "source": [
    "print(Act_lista)"
   ]
  },
  {
   "cell_type": "code",
   "execution_count": 20,
   "id": "84246d0b",
   "metadata": {},
   "outputs": [],
   "source": [
    "Act_diccionario = {1:16, 2:'Diciembre', 3:True, 4:20.23, 5:'Arturo'}"
   ]
  },
  {
   "cell_type": "code",
   "execution_count": 21,
   "id": "bdeeb21f",
   "metadata": {},
   "outputs": [
    {
     "name": "stdout",
     "output_type": "stream",
     "text": [
      "{1: 16, 2: 'Diciembre', 3: True, 4: 20.23, 5: 'Arturo'}\n"
     ]
    }
   ],
   "source": [
    "print(Act_diccionario)"
   ]
  }
 ],
 "metadata": {
  "kernelspec": {
   "display_name": "Python 3 (ipykernel)",
   "language": "python",
   "name": "python3"
  },
  "language_info": {
   "codemirror_mode": {
    "name": "ipython",
    "version": 3
   },
   "file_extension": ".py",
   "mimetype": "text/x-python",
   "name": "python",
   "nbconvert_exporter": "python",
   "pygments_lexer": "ipython3",
   "version": "3.9.13"
  }
 },
 "nbformat": 4,
 "nbformat_minor": 5
}
