{
 "cells": [
  {
   "cell_type": "markdown",
   "id": "91b859da",
   "metadata": {},
   "source": [
    "• Cada compañero dirá un número. Los guardarás en un diccionario, junto con el nombre del compañero.\n",
    "• Luego imprimirán los valores del diccionario (nombre de la persona y número que dijo) (Usando un bucle for)\n",
    "•  Al final imprimirán dos mensajes, mostrando el número más grande, y el número más pequeño que dijeron, sin el nombre del socio, sólo el número."
   ]
  },
  {
   "cell_type": "code",
   "execution_count": 57,
   "id": "2e544d4d",
   "metadata": {},
   "outputs": [
    {
     "name": "stdout",
     "output_type": "stream",
     "text": [
      "{'Arturo': 16, 'Gaby': 12, 'Ale': 23}\n",
      "nombre= Arturo , número= 16\n",
      "nombre= Gaby , número= 12\n",
      "nombre= Ale , número= 23\n",
      "El número más grande es: 23\n",
      "El número más pequeño es: 12\n"
     ]
    }
   ],
   "source": [
    "diccionario = {\"Arturo\":16, \"Gaby\":12, \"Ale\":23}\n",
    "print(diccionario)\n",
    "\n",
    "for nombre, número in diccionario.items():\n",
    "    print('nombre=', nombre, ', número=', número)\n",
    "\n",
    "mayor=max(diccionario.values())\n",
    "menor=min(diccionario.values())\n",
    "print(f\"El número más grande es: {mayor}\")\n",
    "print(f\"El número más pequeño es: {menor}\")"
   ]
  }
 ],
 "metadata": {
  "kernelspec": {
   "display_name": "Python 3 (ipykernel)",
   "language": "python",
   "name": "python3"
  },
  "language_info": {
   "codemirror_mode": {
    "name": "ipython",
    "version": 3
   },
   "file_extension": ".py",
   "mimetype": "text/x-python",
   "name": "python",
   "nbconvert_exporter": "python",
   "pygments_lexer": "ipython3",
   "version": "3.9.13"
  }
 },
 "nbformat": 4,
 "nbformat_minor": 5
}
