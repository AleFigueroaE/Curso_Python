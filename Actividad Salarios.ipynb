{
 "cells": [
  {
   "cell_type": "markdown",
   "id": "dcefcd31",
   "metadata": {},
   "source": [
    "Obtener la diferencia entre el salario más alto y el más bajo dentro de los datos. Para esto, se debe encontrar el valor máximo y restarle el valor mínimo de los datos (la respuesta a esta operación se llama rango de los datos).\n"
   ]
  },
  {
   "cell_type": "code",
   "execution_count": 2,
   "id": "6f2a0057",
   "metadata": {},
   "outputs": [
    {
     "name": "stdout",
     "output_type": "stream",
     "text": [
      "La diferencia entre el salario más alto y el más bajo es: 25\n"
     ]
    }
   ],
   "source": [
    "salario = [10, 5, 15, 20, 25, 30]\n",
    "\n",
    "maximo = max(salario)\n",
    "minimo = min(salario)\n",
    "\n",
    "diferencia = maximo - minimo\n",
    "\n",
    "print(\"La diferencia entre el salario más alto y el más bajo es:\", diferencia)\n"
   ]
  },
  {
   "cell_type": "code",
   "execution_count": null,
   "id": "0540edfa",
   "metadata": {},
   "outputs": [],
   "source": []
  }
 ],
 "metadata": {
  "kernelspec": {
   "display_name": "Python 3 (ipykernel)",
   "language": "python",
   "name": "python3"
  },
  "language_info": {
   "codemirror_mode": {
    "name": "ipython",
    "version": 3
   },
   "file_extension": ".py",
   "mimetype": "text/x-python",
   "name": "python",
   "nbconvert_exporter": "python",
   "pygments_lexer": "ipython3",
   "version": "3.9.13"
  }
 },
 "nbformat": 4,
 "nbformat_minor": 5
}
