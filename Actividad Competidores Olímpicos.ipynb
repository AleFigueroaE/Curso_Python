{
 "cells": [
  {
   "cell_type": "markdown",
   "id": "c30f2b62",
   "metadata": {},
   "source": [
    "-Crear un programa en Visual Studio que me permita saber cuál es el competidor más veterano que ha recibido medalla (oro, plata o bronce)\n",
    "-Crear un programa en Visual Studio que me permita saber cuál es el competidor más joven que ha recibido medalla de oro\n",
    "-Encuentra al competidor más ganador de la historia y crea un csv con toda su información.\n",
    "Utilizar Pandas y \"display\"."
   ]
  },
  {
   "cell_type": "code",
   "execution_count": 35,
   "id": "2f567576",
   "metadata": {},
   "outputs": [],
   "source": [
    "competidores = [\n",
    "    {\"nombre\": \"Arturo\", \"edad\": 28, \"medalla\": \"oro\"},\n",
    "    {\"nombre\": \"Alejandra\", \"edad\": 27, \"medalla\": \"plata\"},\n",
    "    {\"nombre\": \"Gabriela\", \"edad\": 29, \"medalla\": \"bronce\"},\n",
    "    {\"nombre\": \"Ruben\", \"edad\": 31, \"medalla\": \"oro\"},\n",
    "    {\"nombre\": \"Norma\", \"edad\": 30, \"medalla\": \"plata\"},\n",
    "    {\"nombre\": \"Alejandra\", \"edad\": 27, \"medalla\": \"oro\"}]\n"
   ]
  },
  {
   "cell_type": "code",
   "execution_count": 36,
   "id": "6b160359",
   "metadata": {},
   "outputs": [
    {
     "name": "stdout",
     "output_type": "stream",
     "text": [
      "El competidor más veterano que ha recibido medalla es Ruben con 31 años.\n"
     ]
    }
   ],
   "source": [
    "veterano = None\n",
    "for competidor in competidores:\n",
    "    if competidor[\"medalla\"] in [\"oro\", \"plata\", \"bronce\"]:\n",
    "        if veterano is None or competidor[\"edad\"] > veterano[\"edad\"]:\n",
    "            veterano = competidor\n",
    "\n",
    "if veterano is None:\n",
    "    print(\"No se encontró ningún competidor.\")\n",
    "else:\n",
    "    print(f\"El competidor más veterano que ha recibido medalla es {veterano['nombre']} con {veterano['edad']} años.\")\n"
   ]
  },
  {
   "cell_type": "code",
   "execution_count": 37,
   "id": "a6aceb1f",
   "metadata": {},
   "outputs": [
    {
     "name": "stdout",
     "output_type": "stream",
     "text": [
      "El competidor más joven que ha recibido medalla de oro es Alejandra con 27 años.\n"
     ]
    }
   ],
   "source": [
    "oro = None\n",
    "for competidor in competidores:\n",
    "    if competidor[\"medalla\"] == \"oro\":\n",
    "        if oro is None or competidor[\"edad\"] < oro[\"edad\"]:\n",
    "            oro = competidor\n",
    "\n",
    "if oro is None:\n",
    "    print(\"No se encontró ningún competidor con medalla de oro.\")\n",
    "else:\n",
    "    print(f\"El competidor más joven que ha recibido medalla de oro es {oro['nombre']} con {oro['edad']} años.\")\n"
   ]
  },
  {
   "cell_type": "code",
   "execution_count": 38,
   "id": "e459ee40",
   "metadata": {},
   "outputs": [
    {
     "name": "stdout",
     "output_type": "stream",
     "text": [
      "El competidor más ganador de la historia es Alejandra con 2 medallas.\n"
     ]
    }
   ],
   "source": [
    "medallas = {}\n",
    "for competidor in competidores:\n",
    "    if competidor[\"nombre\"] not in medallas:\n",
    "        medallas[competidor[\"nombre\"]] = 0\n",
    "    if competidor[\"medalla\"] in [\"oro\", \"plata\", \"bronce\"]:\n",
    "        medallas[competidor[\"nombre\"]] += 1\n",
    "\n",
    "ganador = None\n",
    "for nombre, cantidad in medallas.items():\n",
    "    if ganador is None or cantidad > medallas[ganador]:\n",
    "        ganador = nombre\n",
    "\n",
    "if ganador is None:\n",
    "    print(\"No se encontró ningún competidor con medalla.\")\n",
    "else:\n",
    "    print(f\"El competidor más ganador de la historia es {ganador} con {medallas[ganador]} medallas.\")\n"
   ]
  },
  {
   "cell_type": "code",
   "execution_count": null,
   "id": "b509ef05",
   "metadata": {},
   "outputs": [],
   "source": []
  }
 ],
 "metadata": {
  "kernelspec": {
   "display_name": "Python 3 (ipykernel)",
   "language": "python",
   "name": "python3"
  },
  "language_info": {
   "codemirror_mode": {
    "name": "ipython",
    "version": 3
   },
   "file_extension": ".py",
   "mimetype": "text/x-python",
   "name": "python",
   "nbconvert_exporter": "python",
   "pygments_lexer": "ipython3",
   "version": "3.9.13"
  }
 },
 "nbformat": 4,
 "nbformat_minor": 5
}
